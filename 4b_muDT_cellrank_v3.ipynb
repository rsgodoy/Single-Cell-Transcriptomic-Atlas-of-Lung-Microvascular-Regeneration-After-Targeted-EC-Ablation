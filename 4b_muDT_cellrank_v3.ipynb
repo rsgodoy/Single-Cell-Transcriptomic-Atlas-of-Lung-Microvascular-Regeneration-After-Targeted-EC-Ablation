{
 "cells": [
  {
   "cell_type": "markdown",
   "id": "e863e444-7dad-45b0-813f-772b32479da5",
   "metadata": {},
   "source": [
    "# CellRank basics\n",
    "## start with mouse dt dataset merged adata file (adata+ldata)"
   ]
  },
  {
   "cell_type": "markdown",
   "id": "21224950-067a-45c5-bf4a-4c443b15eb04",
   "metadata": {},
   "source": [
    "## Import packages & data"
   ]
  },
  {
   "cell_type": "code",
   "execution_count": 1,
   "id": "517304ad-b3ba-4abf-ab63-7ebc5351b679",
   "metadata": {
    "ExecuteTime": {
     "end_time": "2021-03-23T18:32:20.254114Z",
     "start_time": "2021-03-23T18:32:20.250021Z"
    },
    "hidePrompt": true
   },
   "outputs": [],
   "source": [
    "import scvelo as scv\n",
    "import scanpy as sc\n",
    "import cellrank as cr\n",
    "import numpy as np\n",
    "import pandas as pd\n",
    "\n",
    "scv.settings.verbosity = 3\n",
    "scv.settings.set_figure_params(\"scvelo\")\n",
    "cr.settings.verbosity = 3"
   ]
  },
  {
   "cell_type": "code",
   "execution_count": 2,
   "id": "81c33a27-c52b-4627-9be0-97137c2455f9",
   "metadata": {
    "ExecuteTime": {
     "end_time": "2021-03-23T18:32:22.594162Z",
     "start_time": "2021-03-23T18:32:22.591146Z"
    }
   },
   "outputs": [],
   "source": [
    "import warnings\n",
    "\n",
    "warnings.simplefilter(\"ignore\", category=UserWarning)\n",
    "warnings.simplefilter(\"ignore\", category=FutureWarning)\n",
    "warnings.simplefilter(\"ignore\", category=DeprecationWarning)"
   ]
  },
  {
   "cell_type": "code",
   "execution_count": null,
   "id": "ca01e334-696e-430b-9a20-cb9ba2dd9550",
   "metadata": {},
   "outputs": [],
   "source": [
    "adata = sc.read_h5ad('../../cell_rank/datasets/mudata_adata_ldata_merged.h5ad')\n",
    "adata # this anndata doesn't have loom files incorportated."
   ]
  },
  {
   "cell_type": "code",
   "execution_count": null,
   "id": "d8e0be71-6ee3-4dd4-ad05-1aa61b6d582a",
   "metadata": {},
   "outputs": [],
   "source": [
    "#plot umap to check\n",
    "sc.pl.umap(adata, color='seurat_clusters', frameon=False, title='Endothalial Cell population')\n",
    "#, save='_clusters.pdf')"
   ]
  },
  {
   "cell_type": "code",
   "execution_count": null,
   "id": "04eab8a3-ee3a-44f1-8391-8bd3bdb77d21",
   "metadata": {},
   "outputs": [],
   "source": [
    "import pandas as pd"
   ]
  },
  {
   "cell_type": "code",
   "execution_count": null,
   "id": "f170e5df-c5bd-4b92-aaca-e586f14435fa",
   "metadata": {},
   "outputs": [],
   "source": [
    "#adata.obs['seurat_clusters'].astype('category')\n",
    "adata.obs['seurat_clusters']=adata.obs['seurat_clusters'].astype('category')"
   ]
  },
  {
   "cell_type": "code",
   "execution_count": null,
   "id": "83d231d8-28e2-473c-a249-3e2ff6ff38dd",
   "metadata": {},
   "outputs": [],
   "source": [
    "scv.pl.proportions(adata, groupby='seurat_clusters')"
   ]
  },
  {
   "cell_type": "code",
   "execution_count": null,
   "id": "49e8fdca-24d8-468d-8419-ebb30dfa54d3",
   "metadata": {},
   "outputs": [],
   "source": [
    "scv.pl.proportions(adata, groupby='Sample')"
   ]
  },
  {
   "cell_type": "code",
   "execution_count": null,
   "id": "ffd49496-e446-4d0b-97d1-dc88fa9c0288",
   "metadata": {},
   "outputs": [],
   "source": [
    "adata.obs"
   ]
  },
  {
   "cell_type": "code",
   "execution_count": null,
   "id": "2b3369a8-be14-48a9-93aa-600951e143d5",
   "metadata": {},
   "outputs": [],
   "source": [
    "# 2022-Oct-12 notes and also checked the notebook online on 2022-11-08 pre-processing\n",
    "scv.pp.filter_and_normalize(adata, min_shared_counts=20, n_top_genes=3000)#original: 2000\n",
    "sc.tl.pca(adata)\n",
    "sc.pp.neighbors(adata, n_pcs=30, n_neighbors=30)\n",
    "scv.pp.moments(adata, n_pcs=None, n_neighbors=None)"
   ]
  },
  {
   "cell_type": "code",
   "execution_count": null,
   "id": "58c9bb81-b0f9-4620-bdf6-9ead2bdbbcfd",
   "metadata": {},
   "outputs": [],
   "source": [
    "# 2022-10-12 runned these two lines\n",
    "scv.pp.filter_and_normalize(adata, min_shared_counts=20, n_top_genes=3000)\n",
    "scv.pp.moments(adata, n_pcs=40, n_neighbors=30)"
   ]
  },
  {
   "cell_type": "code",
   "execution_count": null,
   "id": "25a94caf-f212-41c1-b384-324c618db561",
   "metadata": {},
   "outputs": [],
   "source": [
    "adata"
   ]
  },
  {
   "cell_type": "code",
   "execution_count": null,
   "id": "d227df0d-1d71-47eb-b073-b6d801becaf0",
   "metadata": {},
   "outputs": [],
   "source": [
    "adata.obs # check obs table"
   ]
  },
  {
   "cell_type": "code",
   "execution_count": null,
   "id": "c04d768d-2260-4aaf-ac98-bc7408fd6e82",
   "metadata": {},
   "outputs": [],
   "source": [
    "adata.var.highly_variable"
   ]
  },
  {
   "cell_type": "code",
   "execution_count": null,
   "id": "46c1c24e-629c-4b9f-9a68-1ec4dcd62234",
   "metadata": {},
   "outputs": [],
   "source": [
    "scv.tl.recover_dynamics(adata, n_jobs=8)"
   ]
  },
  {
   "cell_type": "code",
   "execution_count": null,
   "id": "e1e2e80e-6400-4f4e-b8ca-2f4f4210bcdb",
   "metadata": {},
   "outputs": [],
   "source": [
    "scv.tl.velocity(adata, mode=\"dynamical\")\n",
    "scv.tl.velocity_graph(adata)"
   ]
  },
  {
   "cell_type": "code",
   "execution_count": null,
   "id": "b7619c2e-4ddf-483d-8877-2b0e1f76d804",
   "metadata": {},
   "outputs": [],
   "source": [
    "adata.obs"
   ]
  },
  {
   "cell_type": "code",
   "execution_count": null,
   "id": "51b171d4-af34-4e72-ac95-1fd96ea254bd",
   "metadata": {},
   "outputs": [],
   "source": [
    "adata"
   ]
  },
  {
   "cell_type": "code",
   "execution_count": null,
   "id": "e7a32091-1f70-4af2-92b9-6667bfd43bae",
   "metadata": {},
   "outputs": [],
   "source": [
    "scv.pl.velocity_embedding(adata, basis='umap', color='seurat_clusters', dpi=300)"
   ]
  },
  {
   "cell_type": "code",
   "execution_count": null,
   "id": "12a263d8-41b1-4775-abaa-b15ceca70f21",
   "metadata": {},
   "outputs": [],
   "source": [
    "scv.pl.velocity_embedding_grid(adata, basis='umap', color='seurat_clusters', dpi=300, legend_loc='best')"
   ]
  },
  {
   "cell_type": "code",
   "execution_count": null,
   "id": "4e32c823-10e4-4563-b1ba-b4a9b2a923bc",
   "metadata": {},
   "outputs": [],
   "source": [
    "scv.pl.velocity_embedding_stream(adata, basis=\"umap\", color='seurat_clusters',\n",
    "    title=\"integration both direction\", smooth=0.8, dpi=300,\n",
    "    legend_loc='right', legend_fontsize=12,\n",
    "    min_mass=4 #5 is the largest velocities (defaults to 1)\n",
    ")"
   ]
  },
  {
   "cell_type": "code",
   "execution_count": null,
   "id": "3c652a76-40a9-4148-9da2-336befa3cf5e",
   "metadata": {},
   "outputs": [],
   "source": [
    "scv.pl.velocity_embedding_stream(\n",
    "    adata, basis=\"umap\", color='Sample',\n",
    "    title=\"integration both direction\", smooth=0.8, dpi=300,\n",
    "    legend_loc='right', legend_fontsize=12,\n",
    "    min_mass=4 #5 is the largest velocities (defaults to 1)\n",
    ")"
   ]
  },
  {
   "cell_type": "code",
   "execution_count": null,
   "id": "01ba0d2b-97e0-40e5-9d62-626aeed88925",
   "metadata": {},
   "outputs": [],
   "source": [
    "scv.pl.velocity_embedding_stream(\n",
    "    adata, basis=\"umap\", color='seurat_clusters',\n",
    "    title=\"integration forward direction\", smooth=0.8, dpi=300,\n",
    "    legend_loc='right', legend_fontsize=12,\n",
    "    min_mass=4, #5 is the largest velocities (defaults to 1)\n",
    "    integration_direction = 'forward'\n",
    ") # min_mass 1-5 5 means large velocities only."
   ]
  },
  {
   "cell_type": "code",
   "execution_count": null,
   "id": "326a5e76-e7da-4f55-995c-dde2bf3f5155",
   "metadata": {},
   "outputs": [],
   "source": [
    "scv.pl.velocity_embedding_stream(\n",
    "    adata, basis=\"umap\", color='seurat_clusters',\n",
    "    title=\"integration backward direction\", smooth=0.8, dpi=300,\n",
    "    legend_loc='right', legend_fontsize=12,\n",
    "    min_mass=4, #5 is the largest velocities (defaults to 1)\n",
    "    integration_direction = 'backward'\n",
    ") # min_mass 1-5 5 means large velocities only."
   ]
  },
  {
   "cell_type": "code",
   "execution_count": null,
   "id": "9501d1fe-e497-4549-a5fe-a75043a3f983",
   "metadata": {},
   "outputs": [],
   "source": [
    "adata.write('../../cell_rank/datasets/mudt_aldata_merged_scv_dyn.h5ad')"
   ]
  },
  {
   "cell_type": "code",
   "execution_count": null,
   "id": "ee5c2049-284d-4416-af29-cae75b701188",
   "metadata": {},
   "outputs": [],
   "source": [
    "scv.settings.presenter_view = True  # set max width size for presenter view\n",
    "scv.settings.set_figure_params('scvelo')  # for beautified visualization"
   ]
  },
  {
   "cell_type": "code",
   "execution_count": null,
   "id": "bc61975b-099a-4493-afee-f08f7af0b9d6",
   "metadata": {},
   "outputs": [],
   "source": [
    "top_genes = adata.var['fit_likelihood'].sort_values(ascending=False).index\n",
    "scv.pl.scatter(adata,color='seurat_clusters',basis=top_genes[:15], ncols=5, frameon=False, dpi=120)"
   ]
  },
  {
   "cell_type": "code",
   "execution_count": null,
   "id": "f34afd19-1ed2-44c2-9ef0-f16710648e5e",
   "metadata": {},
   "outputs": [],
   "source": [
    "# top genes in each clusters\n",
    "scv.tl.rank_dynamical_genes(adata, n_genes=100, groupby='seurat_clusters') #n_genes : int, optional (default: 100)\n",
    "#This ranks genes by their likelihood obtained from the dynamical model grouped by clusters specified in groupby.\n",
    "df = scv.get_df(adata, 'rank_dynamical_genes/names')\n",
    "df.head(5)"
   ]
  },
  {
   "cell_type": "code",
   "execution_count": null,
   "id": "3c2edf8c-2557-4454-a08c-57e7e46483d5",
   "metadata": {},
   "outputs": [],
   "source": [
    "adata"
   ]
  },
  {
   "cell_type": "code",
   "execution_count": null,
   "id": "ff3ab9bd-0923-474c-bc23-41d87c17323f",
   "metadata": {},
   "outputs": [],
   "source": [
    "scv.tl.latent_time(adata)\n",
    "scv.pl.scatter(adata, color='latent_time', color_map='gnuplot', size=80)"
   ]
  },
  {
   "cell_type": "code",
   "execution_count": null,
   "id": "bb854a3a-639f-45a0-abd7-4ec153a40a2f",
   "metadata": {},
   "outputs": [],
   "source": [
    "adata"
   ]
  },
  {
   "cell_type": "code",
   "execution_count": null,
   "id": "19a8b3da-4a5c-4224-8f37-a9ee4a84c11a",
   "metadata": {},
   "outputs": [],
   "source": [
    "top_genes = adata.var['fit_likelihood'].sort_values(ascending=False).index[:300]\n",
    "scv.pl.heatmap(adata, var_names=top_genes, sortby='latent_time', \n",
    "col_color='seurat_clusters', n_convolve=100)"
   ]
  },
  {
   "cell_type": "code",
   "execution_count": null,
   "id": "2c48b113-e5ba-4035-84ea-d4cfe7885a54",
   "metadata": {},
   "outputs": [],
   "source": [
    "# scv.tl.score_genes_cell_cycle(adata) \n",
    "scv.settings.presenter_view = True  # set max width size for presenter view\n",
    "scv.settings.set_figure_params('scvelo')  # for beautified visualization\n",
    "scv.pl.scatter(adata, color_gradients=['S.Score', 'G2M.Score'], smooth=True, perc=[5,95], dpi=100)"
   ]
  },
  {
   "cell_type": "code",
   "execution_count": null,
   "id": "46d0083a-1448-4b12-bbb6-e5f93e68d2eb",
   "metadata": {},
   "outputs": [],
   "source": [
    "scv.tl.velocity_confidence(adata)\n",
    "keys = 'velocity_length', 'velocity_confidence'\n",
    "scv.pl.scatter(adata, c=keys, cmap='coolwarm', perc=[5, 95])"
   ]
  },
  {
   "cell_type": "code",
   "execution_count": null,
   "id": "0a91f2e5-9bcd-4125-9fc2-be61f846ea21",
   "metadata": {},
   "outputs": [],
   "source": [
    "del df\n",
    "df = adata.obs.groupby('seurat_clusters')[keys].mean().T\n",
    "df.style.background_gradient(cmap='coolwarm', axis=1)"
   ]
  },
  {
   "cell_type": "code",
   "execution_count": null,
   "id": "67ee4a25-6375-437a-adc8-7a731b31a316",
   "metadata": {},
   "outputs": [],
   "source": [
    "del df"
   ]
  },
  {
   "cell_type": "code",
   "execution_count": null,
   "id": "b598f078-626e-4729-ba6d-9a61b04c291b",
   "metadata": {},
   "outputs": [],
   "source": [
    "df = adata.var\n",
    "df = df[(df['fit_likelihood'] > .1) & df['velocity_genes'] == True]\n",
    "\n",
    "kwargs = dict(xscale='log', fontsize=16)\n",
    "with scv.GridSpec(ncols=3) as pl:\n",
    "    pl.hist(df['fit_alpha'], xlabel='transcription rate', **kwargs)\n",
    "    pl.hist(df['fit_beta'] * df['fit_scaling'], xlabel='splicing rate', xticks=[.1, .4, 1], **kwargs)\n",
    "    pl.hist(df['fit_gamma'], xlabel='degradation rate', xticks=[.1, .4, 1], **kwargs)\n",
    "\n",
    "scv.get_df(adata, 'fit*', dropna=True).head()"
   ]
  },
  {
   "cell_type": "code",
   "execution_count": null,
   "id": "0ee018a4-85d8-496b-9e77-8828c4bed9f4",
   "metadata": {},
   "outputs": [],
   "source": [
    "df.to_csv('../../cell_rank/datasets/df_dynamical_kinetic_rate.csv', index=True,\n",
    "index_label='Index')"
   ]
  },
  {
   "cell_type": "code",
   "execution_count": null,
   "id": "82139259-8e44-42a3-bac3-fdcdd8a9c814",
   "metadata": {},
   "outputs": [],
   "source": [
    "df_reload = pd.read_csv('../../cell_rank/datasets/df_dynamical_kinetic_rate.csv',\n",
    "index_col=0)  "
   ]
  },
  {
   "cell_type": "code",
   "execution_count": null,
   "id": "351aad50-14d6-46eb-838c-00061520f32e",
   "metadata": {},
   "outputs": [],
   "source": [
    "del df, df_reload, top_genes"
   ]
  },
  {
   "cell_type": "code",
   "execution_count": null,
   "id": "535ea128-9bb7-4bbe-b4e5-9b297a6dc414",
   "metadata": {},
   "outputs": [],
   "source": [
    "scv.tl.rank_dynamical_genes(adata, groupby='seurat_clusters')\n",
    "df = scv.get_df(adata, 'rank_dynamical_genes/names')\n",
    "df.head(5)"
   ]
  },
  {
   "cell_type": "code",
   "execution_count": null,
   "id": "13eebc80-75e1-4ad2-9f80-6c9a76b1b0c0",
   "metadata": {},
   "outputs": [],
   "source": [
    "df.to_csv('../../cell_rank/datasets/df_cluster_specific_rank_dynamical_genes.csv', index=True,\n",
    "index_label='Index')"
   ]
  },
  {
   "cell_type": "code",
   "execution_count": null,
   "id": "f0adb47e-6c33-40c4-b3d4-63e80bbd89f8",
   "metadata": {},
   "outputs": [],
   "source": [
    "df_reload = pd.read_csv('../../cell_rank/datasets/df_cluster_specific_rank_dynamical_genes.csv',\n",
    "index_col=0) "
   ]
  },
  {
   "cell_type": "code",
   "execution_count": null,
   "id": "09783ac5-5de6-48e7-9e77-3ba7da61cd8f",
   "metadata": {},
   "outputs": [],
   "source": [
    "for cluster in ['0', '1', '2', '3','4','5', '6', '7']:\n",
    "    scv.pl.scatter(adata, df[cluster][:5], ylabel=cluster, frameon=False, color='seurat_clusters')\n"
   ]
  },
  {
   "cell_type": "code",
   "execution_count": null,
   "id": "e301251d-90f9-425a-8e78-a911b58c7e68",
   "metadata": {},
   "outputs": [],
   "source": [
    "for cluster in ['0', '1', '2', '3','4','5', '6', '7']:\n",
    "    scv.pl.scatter(adata, df[cluster][:5], ylabel=cluster, frameon=False, \n",
    "    color='Sample')\n"
   ]
  },
  {
   "cell_type": "code",
   "execution_count": null,
   "id": "4d244ea7-e57a-476a-9028-7d605a7a60e1",
   "metadata": {},
   "outputs": [],
   "source": [
    "adata.write('../../cell_rank/datasets/mudt_aldata_merged_scv_dyn_v2.h5ad')"
   ]
  },
  {
   "cell_type": "code",
   "execution_count": null,
   "id": "d6f4dd04-2531-4411-854a-c20583fce16a",
   "metadata": {},
   "outputs": [],
   "source": [
    "scv.utils.show_proportions(adata)"
   ]
  },
  {
   "cell_type": "code",
   "execution_count": null,
   "id": "dd10cced-3f0a-4334-b57c-e41ce2855caa",
   "metadata": {},
   "outputs": [],
   "source": [
    "from cellrank.kernels import VelocityKernel\n",
    "vk = VelocityKernel(adata)"
   ]
  },
  {
   "cell_type": "code",
   "execution_count": null,
   "id": "250adad3-8e5e-453b-afa1-9c388fc72490",
   "metadata": {},
   "outputs": [],
   "source": [
    "vk.compute_transition_matrix()"
   ]
  },
  {
   "cell_type": "code",
   "execution_count": null,
   "id": "b5c7df89-70bd-4797-920a-5b1fb1a556db",
   "metadata": {},
   "outputs": [],
   "source": [
    "print(vk)"
   ]
  },
  {
   "cell_type": "code",
   "execution_count": null,
   "id": "69dc4cd3-e71a-4851-b28f-7dadbaa19d13",
   "metadata": {},
   "outputs": [],
   "source": [
    "from cellrank.kernels import ConnectivityKernel\n",
    "\n",
    "ck = ConnectivityKernel(adata).compute_transition_matrix()"
   ]
  },
  {
   "cell_type": "code",
   "execution_count": null,
   "id": "2d199ac2-1078-412e-8ef0-9e2c555e6925",
   "metadata": {},
   "outputs": [],
   "source": [
    "combined_kernel = 0.8 * vk + 0.2 * ck"
   ]
  },
  {
   "cell_type": "code",
   "execution_count": null,
   "id": "0c525a71-d12a-4b41-94f8-0867f672f12e",
   "metadata": {},
   "outputs": [],
   "source": [
    "print(combined_kernel)"
   ]
  },
  {
   "cell_type": "code",
   "execution_count": null,
   "id": "963cc994-503e-448f-81f1-0b2dcd777aea",
   "metadata": {},
   "outputs": [],
   "source": [
    "from cellrank.estimators import GPCCA\n",
    "\n",
    "g = GPCCA(combined_kernel)\n",
    "print(g)"
   ]
  },
  {
   "cell_type": "code",
   "execution_count": null,
   "id": "c3057437-ad58-42e6-a41c-0654d91ca871",
   "metadata": {},
   "outputs": [],
   "source": [
    "g.compute_schur(n_components=20)\n",
    "g.plot_spectrum()"
   ]
  },
  {
   "cell_type": "code",
   "execution_count": null,
   "id": "b8918c2f-6ba2-462a-afd3-47ace8ea06b2",
   "metadata": {},
   "outputs": [],
   "source": [
    "adata.obs['seurat_clusters']=adata.obs['seurat_clusters'].astype('category')"
   ]
  },
  {
   "cell_type": "code",
   "execution_count": null,
   "id": "b4553e91-f3f6-4e52-bb76-8fbf64fd6c26",
   "metadata": {},
   "outputs": [],
   "source": [
    "g.compute_macrostates(cluster_key='seurat_clusters')\n",
    "# n_states=int, if none, use the eigengap heuristic\n",
    "g.plot_macrostates()"
   ]
  },
  {
   "cell_type": "code",
   "execution_count": null,
   "id": "e4d14368-3317-44ca-a9a1-69dd2975928c",
   "metadata": {},
   "outputs": [],
   "source": [
    "g.compute_macrostates(n_states=2, cluster_key='seurat_clusters')\n",
    "g.plot_macrostates()"
   ]
  },
  {
   "cell_type": "code",
   "execution_count": null,
   "id": "01bd54c8-2417-40c7-9227-6e2ea8b0136d",
   "metadata": {},
   "outputs": [],
   "source": [
    "g.compute_macrostates(n_states=8, cluster_key='seurat_clusters')\n",
    "g.plot_macrostates()"
   ]
  },
  {
   "cell_type": "code",
   "execution_count": null,
   "id": "dfb0c138-c30f-4fd4-ba53-bd07d09f6c2b",
   "metadata": {},
   "outputs": [],
   "source": [
    "g.plot_macrostates(states=['0', '1_1', '1_2'], same_plot=False)"
   ]
  },
  {
   "cell_type": "code",
   "execution_count": null,
   "id": "3b162e95-c2de-48bb-8fe0-6e31f4b5419f",
   "metadata": {},
   "outputs": [],
   "source": [
    "g.plot_macrostates(states=['2_1', '2_2', '2_3'], same_plot=False)"
   ]
  },
  {
   "cell_type": "code",
   "execution_count": null,
   "id": "e102a626-8820-43dd-9b1c-93179e32446d",
   "metadata": {},
   "outputs": [],
   "source": [
    "g.plot_macrostates(states=['4', '5'], same_plot=False)"
   ]
  },
  {
   "cell_type": "code",
   "execution_count": null,
   "id": "7504d6b7-ef40-4488-9725-2cf76eccce13",
   "metadata": {},
   "outputs": [],
   "source": [
    "g.compute_terminal_states() # automatic way--stability criterion"
   ]
  },
  {
   "cell_type": "code",
   "execution_count": null,
   "id": "30ada112-9794-4ee6-bd8f-f096eaf4fd59",
   "metadata": {},
   "outputs": [],
   "source": [
    "g.set_terminal_states_from_macrostates(names=['0', '4', '5'])\n",
    "# LW note: I can keep the terminal_states=[\"4\"] identified in the g.compute_terminal_states()step,\n",
    "# rather than set more than one in this step (potentially making things harder to interpret)."
   ]
  },
  {
   "cell_type": "code",
   "execution_count": null,
   "id": "bb08acaf-503e-4d0e-873e-80eb748816a6",
   "metadata": {},
   "outputs": [],
   "source": [
    "g._compute_initial_states()"
   ]
  },
  {
   "cell_type": "code",
   "execution_count": null,
   "id": "2beaa587-2ee3-4b6b-8f7a-e229c20470bb",
   "metadata": {},
   "outputs": [],
   "source": [
    "g.plot_macrostates(states=['1_1'], color=\"seurat_clusters\")"
   ]
  },
  {
   "cell_type": "code",
   "execution_count": null,
   "id": "2d717f62-e299-49e8-8580-2afb7566ff9e",
   "metadata": {},
   "outputs": [],
   "source": [
    "adata.obs"
   ]
  },
  {
   "cell_type": "code",
   "execution_count": null,
   "id": "4d24e1ad-0436-4988-ad36-d8f9aa0f7c39",
   "metadata": {},
   "outputs": [],
   "source": [
    "adata.obs['initial_states']"
   ]
  },
  {
   "cell_type": "code",
   "execution_count": null,
   "id": "4763c8c8-0714-40dd-a85b-bb9adfe95348",
   "metadata": {},
   "outputs": [],
   "source": [
    "#g.compute_absorption_probabilities(keys=['0'])\n",
    "g.compute_absorption_probabilities() #use all terminal states ['0','4','5']"
   ]
  },
  {
   "cell_type": "code",
   "execution_count": null,
   "id": "f8a051b4-21c4-4199-b4ca-18b80127c4e8",
   "metadata": {},
   "outputs": [],
   "source": [
    "g.plot_absorption_probabilities(same_plot=False)"
   ]
  },
  {
   "cell_type": "code",
   "execution_count": null,
   "id": "70f442c8-e1d3-4a0b-90cd-0dab24ea03fd",
   "metadata": {},
   "outputs": [],
   "source": [
    "g.plot_absorption_probabilities(same_plot=True)"
   ]
  },
  {
   "cell_type": "code",
   "execution_count": null,
   "id": "fa217650-0129-4126-8057-47bc054924a3",
   "metadata": {},
   "outputs": [],
   "source": [
    "zero_drivers = g.compute_lineage_drivers(lineages=\"0\", return_drivers=True)\n",
    "zero_drivers.sort_values(by=\"0_corr\", ascending=False)"
   ]
  },
  {
   "cell_type": "code",
   "execution_count": null,
   "id": "455274ab-0d40-4a85-8d7c-4ab9ae351a03",
   "metadata": {},
   "outputs": [],
   "source": [
    "zero_drivers.to_csv('../sc_cellrank/cell_rank/df_zero_drivers.csv', \n",
    "index=True, index_label='index')"
   ]
  },
  {
   "cell_type": "code",
   "execution_count": null,
   "id": "f1087514-5ff6-4423-946d-1cda8ce63511",
   "metadata": {},
   "outputs": [],
   "source": [
    "g.plot_lineage_drivers(\"0\", n_genes=5, ncols=3, dpi=300, \n",
    "save='../cell_rank/zero_terminal_state_drivers.pdf')\n",
    "# saved"
   ]
  },
  {
   "cell_type": "code",
   "execution_count": null,
   "id": "5c542a80-10e3-4195-8c30-c2c6797ba208",
   "metadata": {},
   "outputs": [],
   "source": [
    "cl4_drivers = g.compute_lineage_drivers(lineages=\"4\", return_drivers=True)\n",
    "cl4_drivers.sort_values(by=\"4_corr\", ascending=False)"
   ]
  },
  {
   "cell_type": "code",
   "execution_count": null,
   "id": "fed4ec16-a070-4283-8494-2d3bf1c1bb21",
   "metadata": {},
   "outputs": [],
   "source": [
    "cl4_drivers.to_csv('../sc_cellrank/cell_rank/df_cluster4_drivers.csv', \n",
    "index=True, index_label='index')"
   ]
  },
  {
   "cell_type": "code",
   "execution_count": null,
   "id": "90f82069-db18-4016-bd38-9a9c6f34274b",
   "metadata": {},
   "outputs": [],
   "source": [
    "g.plot_lineage_drivers(\"4\", n_genes=5, ncols=3, dpi=300, \n",
    "save='../cell_rank/cluster4_terminal_state_drivers.pdf')\n",
    "# saved"
   ]
  },
  {
   "cell_type": "code",
   "execution_count": null,
   "id": "201a8d21-4712-41fb-b2c7-2b32c91c957c",
   "metadata": {},
   "outputs": [],
   "source": [
    "cl5_drivers = g.compute_lineage_drivers(lineages=\"5\", return_drivers=True)\n",
    "cl5_drivers.sort_values(by=\"5_corr\", ascending=False)"
   ]
  },
  {
   "cell_type": "code",
   "execution_count": null,
   "id": "3f0fa81b-e854-4cc5-864d-b7a4665e67e1",
   "metadata": {},
   "outputs": [],
   "source": [
    "cl5_drivers.to_csv('../sc_cellrank/cell_rank/df_cluster5_drivers.csv', \n",
    "index=True, index_label='index')"
   ]
  },
  {
   "cell_type": "code",
   "execution_count": null,
   "id": "97c85d8b-c650-45ca-8386-2b21a34c26da",
   "metadata": {},
   "outputs": [],
   "source": [
    "g.plot_lineage_drivers(\"5\", n_genes=5, ncols=3, dpi=100)\n",
    "#g.plot_lineage_drivers(\"4\", n_genes=5, ncols=3, dpi=300, \n",
    "#save='../cell_rank/cluster4_terminal_state_drivers.pdf') # saved!"
   ]
  },
  {
   "cell_type": "code",
   "execution_count": null,
   "id": "2da15671-e0bb-45b6-9481-c67d18e82866",
   "metadata": {},
   "outputs": [],
   "source": [
    "adata.write('../../cell_rank/datasets/mudt_aldata_merged_scv_dyn_cr.h5ad')"
   ]
  },
  {
   "cell_type": "code",
   "execution_count": null,
   "id": "9be644fb-2999-4d6d-a396-8cc8c4477852",
   "metadata": {},
   "outputs": [],
   "source": [
    "g.coarse_initial_distribution()"
   ]
  },
  {
   "cell_type": "code",
   "execution_count": null,
   "id": "b2117ed5-7467-46b5-9463-84f62e60b02b",
   "metadata": {},
   "outputs": [],
   "source": [
    "# compue DPT, starting from CellRank defined root cell\n",
    "root_idx = np.where(adata.obs[\"initial_states\"] == \"1_1\")[0][0]\n",
    "adata.uns[\"iroot\"] = root_idx\n",
    "sc.tl.dpt(adata)"
   ]
  },
  {
   "cell_type": "code",
   "execution_count": null,
   "id": "8d124764-9aa8-468f-a835-e7035a8fdd53",
   "metadata": {},
   "outputs": [],
   "source": [
    "scv.pl.scatter(\n",
    "    adata,\n",
    "    color=[\"seurat_clusters\", root_idx],\n",
    "    fontsize=16,\n",
    "    cmap=\"viridis\",\n",
    "    perc=[2, 98],\n",
    "    colorbar=True,\n",
    "    rescale_color=[0, 1],\n",
    "    title=[\"clusters\", \"root cell\"],\n",
    "    dpi=900\n",
    ")"
   ]
  },
  {
   "cell_type": "code",
   "execution_count": null,
   "id": "5995140f-5be5-4d6b-923c-b425f27b0292",
   "metadata": {},
   "outputs": [],
   "source": [
    "scv.pl.scatter(\n",
    "    adata,\n",
    "    color=[ \"latent_time\", \"dpt_pseudotime\"],\n",
    "    fontsize=16,\n",
    "    cmap=\"viridis\",\n",
    "    perc=[2, 98],\n",
    "    colorbar=True,\n",
    "    rescale_color=[0, 1],\n",
    "    title=[\"latent time\", \"dpt pseudotime\"],\n",
    "    dpi=900\n",
    ")"
   ]
  },
  {
   "cell_type": "code",
   "execution_count": null,
   "id": "f40a92b4-994a-4ddf-9ea1-28f645c4b512",
   "metadata": {},
   "outputs": [],
   "source": [
    "combined_kernel = 0.8 * vk + 0.2 * ck\n",
    "print(combined_kernel)"
   ]
  },
  {
   "cell_type": "code",
   "execution_count": null,
   "id": "22282f3d-8d59-4946-9275-7f5a236937cf",
   "metadata": {},
   "outputs": [],
   "source": [
    "k = VelocityKernel(adata).compute_transition_matrix()\n",
    "k"
   ]
  },
  {
   "cell_type": "code",
   "execution_count": null,
   "id": "6eea9fa7-8ef8-42b3-9510-9f0fe2017e74",
   "metadata": {},
   "outputs": [],
   "source": [
    "vk"
   ]
  },
  {
   "cell_type": "code",
   "execution_count": null,
   "id": "bfa01afe-b112-4e3b-8688-bbdc980c58ef",
   "metadata": {},
   "outputs": [],
   "source": [
    "ck"
   ]
  },
  {
   "cell_type": "code",
   "execution_count": null,
   "id": "d4c7763a-7363-4359-bf1d-3e42b62fddfb",
   "metadata": {},
   "outputs": [],
   "source": [
    "combined_kernel.plot_random_walks(\n",
    "    100,\n",
    "    start_ixs={\"seurat_clusters\": \"2\"},\n",
    "    max_iter=100,\n",
    "    show_progress_bar=False,\n",
    "    ixs_legend_loc=\"best\",\n",
    "    seed=42,\n",
    ")"
   ]
  },
  {
   "cell_type": "code",
   "execution_count": null,
   "id": "53da8e50-ea27-42ab-863f-23174fd872c6",
   "metadata": {},
   "outputs": [],
   "source": [
    "combined_kernel.plot_random_walks(\n",
    "    n_sims=300,\n",
    "    max_iter=200,\n",
    "    start_ixs={\"seurat_clusters\": \"0\"},\n",
    "    show_progress_bar=False,\n",
    "    ixs_legend_loc=\"best\",\n",
    "    cmap=\"gnuplot\",\n",
    "    seed=42,\n",
    "    linealpha=0.5,\n",
    "    dpi=150 #cmap=\"gnuplot\"\n",
    ")"
   ]
  },
  {
   "cell_type": "code",
   "execution_count": null,
   "id": "b170cb94-405b-4ca0-9a57-6b526e656ef5",
   "metadata": {},
   "outputs": [],
   "source": [
    "combined_kernel.plot_random_walks(\n",
    "    100,\n",
    "    start_ixs={\"seurat_clusters\": \"0\"},\n",
    "    stop_ixs={\"seurat_clusters\": [\"4\", \"5\"]},\n",
    "    max_iter=100,\n",
    "    successive_hits=5,\n",
    "    show_progress_bar=False,\n",
    "    cmap=\"viridis\",\n",
    "    seed=42,\n",
    "    ixs_legend_loc=\"best\"\n",
    ")"
   ]
  },
  {
   "cell_type": "code",
   "execution_count": null,
   "id": "d9fe40d6-e772-4658-9c2c-4a6f6725754f",
   "metadata": {},
   "outputs": [],
   "source": [
    "cr.pl.circular_projection(adata, keys=\"seurat_clusters\", legend_loc=\"right\")"
   ]
  }
 ],
 "metadata": {
  "kernelspec": {
   "display_name": "Python 3 (ipykernel)",
   "language": "python",
   "name": "python3"
  },
  "language_info": {
   "codemirror_mode": {
    "name": "ipython",
    "version": 3
   },
   "file_extension": ".py",
   "mimetype": "text/x-python",
   "name": "python",
   "nbconvert_exporter": "python",
   "pygments_lexer": "ipython3",
   "version": "3.10.10"
  }
 },
 "nbformat": 4,
 "nbformat_minor": 5
}
